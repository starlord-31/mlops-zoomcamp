{
 "cells": [
  {
   "cell_type": "code",
   "execution_count": 1,
   "id": "c3381a17",
   "metadata": {},
   "outputs": [],
   "source": [
    "from mlflow.tracking import MlflowClient\n",
    "\n",
    "MLFLOW_TRACKING_URI = \"sqlite:///mlflow.db\"\n",
    "\n",
    "client = MlflowClient(tracking_uri=MLFLOW_TRACKING_URI)"
   ]
  },
  {
   "cell_type": "code",
   "execution_count": 3,
   "id": "6cf8afd6",
   "metadata": {},
   "outputs": [
    {
     "data": {
      "text/plain": [
       "[<Experiment: artifact_location='/workspaces/mlops-zoomcamp/02-experiment_tracking/data/mlruns/1', creation_time=1748196092546, experiment_id='1', last_update_time=1748196092546, lifecycle_stage='active', name='nyc-taxi-experiment', tags={}>,\n",
       " <Experiment: artifact_location='/workspaces/mlops-zoomcamp/02-experiment_tracking/data/mlruns/0', creation_time=1748196092536, experiment_id='0', last_update_time=1748196092536, lifecycle_stage='active', name='Default', tags={}>]"
      ]
     },
     "execution_count": 3,
     "metadata": {},
     "output_type": "execute_result"
    }
   ],
   "source": [
    "client.search_experiments()"
   ]
  },
  {
   "cell_type": "code",
   "execution_count": 4,
   "id": "97bb722d",
   "metadata": {},
   "outputs": [
    {
     "data": {
      "text/plain": [
       "'2'"
      ]
     },
     "execution_count": 4,
     "metadata": {},
     "output_type": "execute_result"
    }
   ],
   "source": [
    "client.create_experiment(name=\"my_cool_experiment\")"
   ]
  },
  {
   "cell_type": "code",
   "execution_count": 9,
   "id": "b60483c8",
   "metadata": {},
   "outputs": [],
   "source": [
    "from mlflow.entities import ViewType\n",
    "runs = client.search_runs(\n",
    "    experiment_ids=[\"1\"],\n",
    "    filter_string=\"\",\n",
    "    run_view_type=ViewType.ACTIVE_ONLY,\n",
    "    max_results=5,\n",
    "    order_by=[\"metrics.rmse ASC\"]\n",
    ")"
   ]
  },
  {
   "cell_type": "code",
   "execution_count": 10,
   "id": "85872632",
   "metadata": {},
   "outputs": [
    {
     "data": {
      "text/plain": [
       "[<Run: data=<RunData: metrics={'rmse': 6.30390105307673}, params={'learning_rate': '0.19087733393153664',\n",
       "  'max_depth': '33',\n",
       "  'min_child_weight': '1.1849866953729065',\n",
       "  'objective': 'reg:linear',\n",
       "  'reg_alpha': '0.34241467579506146',\n",
       "  'reg_lambda': '0.07513705733067294',\n",
       "  'seed': '42'}, tags={'mlflow.log-model.history': '[{\"run_id\": \"e15338177cdd473ba8dd2905d5faedf6\", '\n",
       "                              '\"artifact_path\": \"models_mlflow\", '\n",
       "                              '\"utc_time_created\": \"2025-05-27 '\n",
       "                              '17:36:01.371211\", \"model_uuid\": '\n",
       "                              '\"c8baaadf014e4656b2c34370358af2b1\", \"flavors\": '\n",
       "                              '{\"python_function\": {\"loader_module\": '\n",
       "                              '\"mlflow.xgboost\", \"python_version\": \"3.9.21\", '\n",
       "                              '\"data\": \"model.xgb\", \"env\": {\"conda\": '\n",
       "                              '\"conda.yaml\", \"virtualenv\": \"python_env.yaml\"}}, '\n",
       "                              '\"xgboost\": {\"xgb_version\": \"2.1.4\", \"data\": '\n",
       "                              '\"model.xgb\", \"model_class\": '\n",
       "                              '\"xgboost.core.Booster\", \"model_format\": \"xgb\", '\n",
       "                              '\"code\": null}}}]',\n",
       "  'mlflow.runName': 'silent-snail-533',\n",
       "  'mlflow.source.name': '/home/codespace/anaconda3/envs/exp-tracking-env/lib/python3.9/site-packages/ipykernel_launcher.py',\n",
       "  'mlflow.source.type': 'LOCAL',\n",
       "  'mlflow.user': 'codespace'}>, info=<RunInfo: artifact_uri='/workspaces/mlops-zoomcamp/02-experiment_tracking/data/mlruns/1/e15338177cdd473ba8dd2905d5faedf6/artifacts', end_time=1748367365635, experiment_id='1', lifecycle_stage='active', run_id='e15338177cdd473ba8dd2905d5faedf6', run_name='silent-snail-533', run_uuid='e15338177cdd473ba8dd2905d5faedf6', start_time=1748367281055, status='FINISHED', user_id='codespace'>, inputs=<RunInputs: dataset_inputs=[]>>,\n",
       " <Run: data=<RunData: metrics={'rmse': 6.30390105307673}, params={'learning_rate': '0.19087733393153664',\n",
       "  'max_depth': '33',\n",
       "  'min_child_weight': '1.1849866953729065',\n",
       "  'objective': 'reg:linear',\n",
       "  'reg_alpha': '0.34241467579506146',\n",
       "  'reg_lambda': '0.07513705733067294',\n",
       "  'seed': '42'}, tags={'mlflow.log-model.history': '[{\"run_id\": \"df3e92db661d4e6c907b0c92818b7b9b\", '\n",
       "                              '\"artifact_path\": \"models_mlflow\", '\n",
       "                              '\"utc_time_created\": \"2025-05-26 '\n",
       "                              '21:38:30.975763\", \"model_uuid\": '\n",
       "                              '\"2e50ff47e1c54f508fc6d19c010a63c5\", \"flavors\": '\n",
       "                              '{\"python_function\": {\"loader_module\": '\n",
       "                              '\"mlflow.xgboost\", \"python_version\": \"3.9.21\", '\n",
       "                              '\"data\": \"model.xgb\", \"env\": {\"conda\": '\n",
       "                              '\"conda.yaml\", \"virtualenv\": \"python_env.yaml\"}}, '\n",
       "                              '\"xgboost\": {\"xgb_version\": \"2.1.4\", \"data\": '\n",
       "                              '\"model.xgb\", \"model_class\": '\n",
       "                              '\"xgboost.core.Booster\", \"model_format\": \"xgb\", '\n",
       "                              '\"code\": null}}}]',\n",
       "  'mlflow.runName': 'secretive-donkey-727',\n",
       "  'mlflow.source.name': '/home/codespace/anaconda3/envs/exp-tracking-env/lib/python3.9/site-packages/ipykernel_launcher.py',\n",
       "  'mlflow.source.type': 'LOCAL',\n",
       "  'mlflow.user': 'codespace'}>, info=<RunInfo: artifact_uri='/workspaces/mlops-zoomcamp/02-experiment_tracking/data/mlruns/1/df3e92db661d4e6c907b0c92818b7b9b/artifacts', end_time=1748295514859, experiment_id='1', lifecycle_stage='active', run_id='df3e92db661d4e6c907b0c92818b7b9b', run_name='secretive-donkey-727', run_uuid='df3e92db661d4e6c907b0c92818b7b9b', start_time=1748295429874, status='FINISHED', user_id='codespace'>, inputs=<RunInputs: dataset_inputs=[]>>,\n",
       " <Run: data=<RunData: metrics={'rmse': 6.30390105307673}, params={'learning_rate': '0.19087733393153664',\n",
       "  'max_depth': '33',\n",
       "  'min_child_weight': '1.1849866953729065',\n",
       "  'objective': 'reg:linear',\n",
       "  'reg_alpha': '0.34241467579506146',\n",
       "  'reg_lambda': '0.07513705733067294',\n",
       "  'seed': '42'}, tags={'mlflow.runName': 'funny-worm-637',\n",
       "  'mlflow.source.name': '/home/codespace/anaconda3/envs/exp-tracking-env/lib/python3.9/site-packages/ipykernel_launcher.py',\n",
       "  'mlflow.source.type': 'LOCAL',\n",
       "  'mlflow.user': 'codespace',\n",
       "  'model': 'xgboost'}>, info=<RunInfo: artifact_uri='/workspaces/mlops-zoomcamp/02-experiment_tracking/data/mlruns/1/97a8acfa1e154d75854a19ea0f3550ab/artifacts', end_time=1748212917109, experiment_id='1', lifecycle_stage='active', run_id='97a8acfa1e154d75854a19ea0f3550ab', run_name='funny-worm-637', run_uuid='97a8acfa1e154d75854a19ea0f3550ab', start_time=1748212775117, status='FINISHED', user_id='codespace'>, inputs=<RunInputs: dataset_inputs=[]>>,\n",
       " <Run: data=<RunData: metrics={'rmse': 6.304267331733142}, params={'learning_rate': '0.2565085516500311',\n",
       "  'max_depth': '19',\n",
       "  'min_child_weight': '1.7850339003908993',\n",
       "  'objective': 'reg:linear',\n",
       "  'reg_alpha': '0.006854261414772142',\n",
       "  'reg_lambda': '0.2902581931779575',\n",
       "  'seed': '42'}, tags={'mlflow.runName': 'placid-duck-207',\n",
       "  'mlflow.source.name': '/home/codespace/anaconda3/envs/exp-tracking-env/lib/python3.9/site-packages/ipykernel_launcher.py',\n",
       "  'mlflow.source.type': 'LOCAL',\n",
       "  'mlflow.user': 'codespace',\n",
       "  'model': 'xgboost'}>, info=<RunInfo: artifact_uri='/workspaces/mlops-zoomcamp/02-experiment_tracking/data/mlruns/1/4558d200d0754422ba4ace37cb71fda0/artifacts', end_time=1748211792284, experiment_id='1', lifecycle_stage='active', run_id='4558d200d0754422ba4ace37cb71fda0', run_name='placid-duck-207', run_uuid='4558d200d0754422ba4ace37cb71fda0', start_time=1748211673827, status='FINISHED', user_id='codespace'>, inputs=<RunInputs: dataset_inputs=[]>>,\n",
       " <Run: data=<RunData: metrics={'rmse': 6.305079572837191}, params={'learning_rate': '0.417020409987971',\n",
       "  'max_depth': '11',\n",
       "  'min_child_weight': '1.5181565595793223',\n",
       "  'objective': 'reg:linear',\n",
       "  'reg_alpha': '0.01584474102402912',\n",
       "  'reg_lambda': '0.24954045551321216',\n",
       "  'seed': '42'}, tags={'mlflow.runName': 'upbeat-dolphin-146',\n",
       "  'mlflow.source.name': '/home/codespace/anaconda3/envs/exp-tracking-env/lib/python3.9/site-packages/ipykernel_launcher.py',\n",
       "  'mlflow.source.type': 'LOCAL',\n",
       "  'mlflow.user': 'codespace',\n",
       "  'model': 'xgboost'}>, info=<RunInfo: artifact_uri='/workspaces/mlops-zoomcamp/02-experiment_tracking/data/mlruns/1/6ba10ec72ac14d54b34170722275c035/artifacts', end_time=1748211956186, experiment_id='1', lifecycle_stage='active', run_id='6ba10ec72ac14d54b34170722275c035', run_name='upbeat-dolphin-146', run_uuid='6ba10ec72ac14d54b34170722275c035', start_time=1748211860772, status='FINISHED', user_id='codespace'>, inputs=<RunInputs: dataset_inputs=[]>>]"
      ]
     },
     "execution_count": 10,
     "metadata": {},
     "output_type": "execute_result"
    }
   ],
   "source": [
    "runs"
   ]
  },
  {
   "cell_type": "code",
   "execution_count": 11,
   "id": "5b4337c9",
   "metadata": {},
   "outputs": [
    {
     "name": "stdout",
     "output_type": "stream",
     "text": [
      "run id: e15338177cdd473ba8dd2905d5faedf6, rmse: 6.3039\n",
      "run id: df3e92db661d4e6c907b0c92818b7b9b, rmse: 6.3039\n",
      "run id: 97a8acfa1e154d75854a19ea0f3550ab, rmse: 6.3039\n",
      "run id: 4558d200d0754422ba4ace37cb71fda0, rmse: 6.3043\n",
      "run id: 6ba10ec72ac14d54b34170722275c035, rmse: 6.3051\n"
     ]
    }
   ],
   "source": [
    "for run in runs:\n",
    "    print(f\"run id: {run.info.run_id}, rmse: {run.data.metrics['rmse']:.4f}\")"
   ]
  },
  {
   "cell_type": "code",
   "execution_count": null,
   "id": "1a8a129d",
   "metadata": {},
   "outputs": [],
   "source": []
  }
 ],
 "metadata": {
  "kernelspec": {
   "display_name": "exp-tracking-env",
   "language": "python",
   "name": "python3"
  },
  "language_info": {
   "codemirror_mode": {
    "name": "ipython",
    "version": 3
   },
   "file_extension": ".py",
   "mimetype": "text/x-python",
   "name": "python",
   "nbconvert_exporter": "python",
   "pygments_lexer": "ipython3",
   "version": "3.9.21"
  }
 },
 "nbformat": 4,
 "nbformat_minor": 5
}
